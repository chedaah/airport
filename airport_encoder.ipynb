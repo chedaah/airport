{
 "cells": [
  {
   "cell_type": "code",
   "execution_count": 4,
   "metadata": {
    "ExecuteTime": {
     "end_time": "2020-08-21T04:41:46.870523Z",
     "start_time": "2020-08-21T04:41:46.868074Z"
    }
   },
   "outputs": [],
   "source": [
    "import pandas as pd\n",
    "import numpy as np"
   ]
  },
  {
   "cell_type": "code",
   "execution_count": 65,
   "metadata": {
    "ExecuteTime": {
     "end_time": "2020-08-21T05:47:26.011728Z",
     "start_time": "2020-08-21T05:47:25.815766Z"
    }
   },
   "outputs": [
    {
     "name": "stderr",
     "output_type": "stream",
     "text": [
      "/usr/lib/python3/dist-packages/ipykernel_launcher.py:3: FutureWarning: Columnar iteration over characters will be deprecated in future releases.\n",
      "  This is separate from the ipykernel package so we can avoid doing imports until\n"
     ]
    },
    {
     "data": {
      "text/html": [
       "<div>\n",
       "<style scoped>\n",
       "    .dataframe tbody tr th:only-of-type {\n",
       "        vertical-align: middle;\n",
       "    }\n",
       "\n",
       "    .dataframe tbody tr th {\n",
       "        vertical-align: top;\n",
       "    }\n",
       "\n",
       "    .dataframe thead th {\n",
       "        text-align: right;\n",
       "    }\n",
       "</style>\n",
       "<table border=\"1\" class=\"dataframe\">\n",
       "  <thead>\n",
       "    <tr style=\"text-align: right;\">\n",
       "      <th></th>\n",
       "      <th>ident</th>\n",
       "      <th>type</th>\n",
       "      <th>name</th>\n",
       "      <th>elevation_ft</th>\n",
       "      <th>continent</th>\n",
       "      <th>iso_country</th>\n",
       "      <th>iso_region</th>\n",
       "      <th>municipality</th>\n",
       "      <th>gps_code</th>\n",
       "      <th>iata_code</th>\n",
       "      <th>local_code</th>\n",
       "      <th>lon</th>\n",
       "      <th>lat</th>\n",
       "    </tr>\n",
       "  </thead>\n",
       "  <tbody>\n",
       "    <tr>\n",
       "      <th>223</th>\n",
       "      <td>03N</td>\n",
       "      <td>small_airport</td>\n",
       "      <td>Utirik Airport</td>\n",
       "      <td>4.0</td>\n",
       "      <td>OC</td>\n",
       "      <td>MH</td>\n",
       "      <td>MH-UTI</td>\n",
       "      <td>Utirik Island</td>\n",
       "      <td>K03N</td>\n",
       "      <td>UTK</td>\n",
       "      <td>03N</td>\n",
       "      <td>169.852005</td>\n",
       "      <td>11.222000</td>\n",
       "    </tr>\n",
       "    <tr>\n",
       "      <th>441</th>\n",
       "      <td>07FA</td>\n",
       "      <td>small_airport</td>\n",
       "      <td>Ocean Reef Club Airport</td>\n",
       "      <td>8.0</td>\n",
       "      <td>NaN</td>\n",
       "      <td>US</td>\n",
       "      <td>US-FL</td>\n",
       "      <td>Key Largo</td>\n",
       "      <td>07FA</td>\n",
       "      <td>OCA</td>\n",
       "      <td>07FA</td>\n",
       "      <td>-80.274803</td>\n",
       "      <td>25.325399</td>\n",
       "    </tr>\n",
       "    <tr>\n",
       "      <th>598</th>\n",
       "      <td>0AK</td>\n",
       "      <td>small_airport</td>\n",
       "      <td>Pilot Station Airport</td>\n",
       "      <td>305.0</td>\n",
       "      <td>NaN</td>\n",
       "      <td>US</td>\n",
       "      <td>US-AK</td>\n",
       "      <td>Pilot Station</td>\n",
       "      <td>NaN</td>\n",
       "      <td>PQS</td>\n",
       "      <td>0AK</td>\n",
       "      <td>-162.899994</td>\n",
       "      <td>61.934601</td>\n",
       "    </tr>\n",
       "    <tr>\n",
       "      <th>677</th>\n",
       "      <td>0CO2</td>\n",
       "      <td>small_airport</td>\n",
       "      <td>Crested Butte Airpark</td>\n",
       "      <td>8980.0</td>\n",
       "      <td>NaN</td>\n",
       "      <td>US</td>\n",
       "      <td>US-CO</td>\n",
       "      <td>Crested Butte</td>\n",
       "      <td>0CO2</td>\n",
       "      <td>CSE</td>\n",
       "      <td>0CO2</td>\n",
       "      <td>-106.928341</td>\n",
       "      <td>38.851918</td>\n",
       "    </tr>\n",
       "    <tr>\n",
       "      <th>1094</th>\n",
       "      <td>0TE7</td>\n",
       "      <td>small_airport</td>\n",
       "      <td>LBJ Ranch Airport</td>\n",
       "      <td>1515.0</td>\n",
       "      <td>NaN</td>\n",
       "      <td>US</td>\n",
       "      <td>US-TX</td>\n",
       "      <td>Johnson City</td>\n",
       "      <td>0TE7</td>\n",
       "      <td>JCY</td>\n",
       "      <td>0TE7</td>\n",
       "      <td>-98.622498</td>\n",
       "      <td>30.251801</td>\n",
       "    </tr>\n",
       "    <tr>\n",
       "      <th>...</th>\n",
       "      <td>...</td>\n",
       "      <td>...</td>\n",
       "      <td>...</td>\n",
       "      <td>...</td>\n",
       "      <td>...</td>\n",
       "      <td>...</td>\n",
       "      <td>...</td>\n",
       "      <td>...</td>\n",
       "      <td>...</td>\n",
       "      <td>...</td>\n",
       "      <td>...</td>\n",
       "      <td>...</td>\n",
       "      <td>...</td>\n",
       "    </tr>\n",
       "    <tr>\n",
       "      <th>57297</th>\n",
       "      <td>ZWKC</td>\n",
       "      <td>small_airport</td>\n",
       "      <td>Kuqa Airport</td>\n",
       "      <td>3524.0</td>\n",
       "      <td>AS</td>\n",
       "      <td>CN</td>\n",
       "      <td>CN-65</td>\n",
       "      <td>Kuqa</td>\n",
       "      <td>ZWKC</td>\n",
       "      <td>KCA</td>\n",
       "      <td>NaN</td>\n",
       "      <td>82.872917</td>\n",
       "      <td>41.677856</td>\n",
       "    </tr>\n",
       "    <tr>\n",
       "      <th>57299</th>\n",
       "      <td>ZWKM</td>\n",
       "      <td>small_airport</td>\n",
       "      <td>Karamay Airport</td>\n",
       "      <td>NaN</td>\n",
       "      <td>AS</td>\n",
       "      <td>CN</td>\n",
       "      <td>CN-65</td>\n",
       "      <td>Karamay</td>\n",
       "      <td>ZWKM</td>\n",
       "      <td>KRY</td>\n",
       "      <td>NaN</td>\n",
       "      <td>84.952700</td>\n",
       "      <td>45.466550</td>\n",
       "    </tr>\n",
       "    <tr>\n",
       "      <th>57306</th>\n",
       "      <td>ZWTC</td>\n",
       "      <td>small_airport</td>\n",
       "      <td>Tacheng Airport</td>\n",
       "      <td>NaN</td>\n",
       "      <td>AS</td>\n",
       "      <td>CN</td>\n",
       "      <td>CN-65</td>\n",
       "      <td>Tacheng</td>\n",
       "      <td>ZWTC</td>\n",
       "      <td>TCG</td>\n",
       "      <td>NaN</td>\n",
       "      <td>83.340797</td>\n",
       "      <td>46.672501</td>\n",
       "    </tr>\n",
       "    <tr>\n",
       "      <th>57310</th>\n",
       "      <td>ZWYN</td>\n",
       "      <td>small_airport</td>\n",
       "      <td>Yining Airport</td>\n",
       "      <td>NaN</td>\n",
       "      <td>AS</td>\n",
       "      <td>CN</td>\n",
       "      <td>CN-65</td>\n",
       "      <td>Yining</td>\n",
       "      <td>ZWYN</td>\n",
       "      <td>YIN</td>\n",
       "      <td>NaN</td>\n",
       "      <td>81.330299</td>\n",
       "      <td>43.955799</td>\n",
       "    </tr>\n",
       "    <tr>\n",
       "      <th>57321</th>\n",
       "      <td>ZYJL</td>\n",
       "      <td>small_airport</td>\n",
       "      <td>Jilin Airport</td>\n",
       "      <td>NaN</td>\n",
       "      <td>AS</td>\n",
       "      <td>CN</td>\n",
       "      <td>CN-22</td>\n",
       "      <td>Jilin</td>\n",
       "      <td>ZYJL</td>\n",
       "      <td>JIL</td>\n",
       "      <td>NaN</td>\n",
       "      <td>126.396004</td>\n",
       "      <td>44.002201</td>\n",
       "    </tr>\n",
       "  </tbody>\n",
       "</table>\n",
       "<p>4272 rows × 13 columns</p>\n",
       "</div>"
      ],
      "text/plain": [
       "      ident           type                     name  elevation_ft continent  \\\n",
       "223     03N  small_airport           Utirik Airport           4.0        OC   \n",
       "441    07FA  small_airport  Ocean Reef Club Airport           8.0       NaN   \n",
       "598     0AK  small_airport    Pilot Station Airport         305.0       NaN   \n",
       "677    0CO2  small_airport    Crested Butte Airpark        8980.0       NaN   \n",
       "1094   0TE7  small_airport        LBJ Ranch Airport        1515.0       NaN   \n",
       "...     ...            ...                      ...           ...       ...   \n",
       "57297  ZWKC  small_airport             Kuqa Airport        3524.0        AS   \n",
       "57299  ZWKM  small_airport          Karamay Airport           NaN        AS   \n",
       "57306  ZWTC  small_airport          Tacheng Airport           NaN        AS   \n",
       "57310  ZWYN  small_airport           Yining Airport           NaN        AS   \n",
       "57321  ZYJL  small_airport            Jilin Airport           NaN        AS   \n",
       "\n",
       "      iso_country iso_region   municipality gps_code iata_code local_code  \\\n",
       "223            MH     MH-UTI  Utirik Island     K03N       UTK        03N   \n",
       "441            US      US-FL      Key Largo     07FA       OCA       07FA   \n",
       "598            US      US-AK  Pilot Station      NaN       PQS        0AK   \n",
       "677            US      US-CO  Crested Butte     0CO2       CSE       0CO2   \n",
       "1094           US      US-TX   Johnson City     0TE7       JCY       0TE7   \n",
       "...           ...        ...            ...      ...       ...        ...   \n",
       "57297          CN      CN-65           Kuqa     ZWKC       KCA        NaN   \n",
       "57299          CN      CN-65        Karamay     ZWKM       KRY        NaN   \n",
       "57306          CN      CN-65        Tacheng     ZWTC       TCG        NaN   \n",
       "57310          CN      CN-65         Yining     ZWYN       YIN        NaN   \n",
       "57321          CN      CN-22          Jilin     ZYJL       JIL        NaN   \n",
       "\n",
       "              lon        lat  \n",
       "223    169.852005  11.222000  \n",
       "441    -80.274803  25.325399  \n",
       "598   -162.899994  61.934601  \n",
       "677   -106.928341  38.851918  \n",
       "1094   -98.622498  30.251801  \n",
       "...           ...        ...  \n",
       "57297   82.872917  41.677856  \n",
       "57299   84.952700  45.466550  \n",
       "57306   83.340797  46.672501  \n",
       "57310   81.330299  43.955799  \n",
       "57321  126.396004  44.002201  \n",
       "\n",
       "[4272 rows x 13 columns]"
      ]
     },
     "execution_count": 65,
     "metadata": {},
     "output_type": "execute_result"
    }
   ],
   "source": [
    "df_ap = pd.read_csv('data/airport_codes.csv')\n",
    "df_ap = df_ap.dropna(subset = ['iata_code'])\n",
    "df_ap['lon'], df_ap['lat'] = df_ap['coordinates'].str.split(', ', 1).str\n",
    "df_ap = df_ap.drop(columns=['coordinates'])\n",
    "df_ap['lat'] = df_ap['lat'].astype('float')\n",
    "df_ap['lon'] = df_ap['lon'].astype('float')\n",
    "df_ap\n",
    "df_ap[df_ap['type'] == 'small_airport']"
   ]
  },
  {
   "cell_type": "code",
   "execution_count": 66,
   "metadata": {
    "ExecuteTime": {
     "end_time": "2020-08-21T05:47:41.168658Z",
     "start_time": "2020-08-21T05:47:30.990677Z"
    }
   },
   "outputs": [
    {
     "name": "stderr",
     "output_type": "stream",
     "text": [
      "/usr/lib/python3/dist-packages/IPython/core/interactiveshell.py:2718: DtypeWarning: Columns (1) have mixed types.Specify dtype option on import or set low_memory=False.\n",
      "  interactivity=interactivity, compiler=compiler, result=result)\n"
     ]
    }
   ],
   "source": [
    "df_fl_o = pd.read_csv('data/flightlist.csv')\n",
    "df_fl = df_fl_o.copy()\n",
    "df_fl = df_fl.fillna('nan')"
   ]
  },
  {
   "cell_type": "markdown",
   "metadata": {
    "ExecuteTime": {
     "end_time": "2020-08-21T05:47:41.219644Z",
     "start_time": "2020-08-21T05:47:41.200114Z"
    }
   },
   "source": [
    "###### df_fl"
   ]
  },
  {
   "cell_type": "code",
   "execution_count": 72,
   "metadata": {
    "ExecuteTime": {
     "end_time": "2020-08-21T06:22:33.593989Z",
     "start_time": "2020-08-21T06:22:33.571807Z"
    }
   },
   "outputs": [
    {
     "name": "stdout",
     "output_type": "stream",
     "text": [
      "33.84147514731197 -111.5831565856934\n",
      "      iso_country                                name        lat         lon\n",
      "27804          US           Kickapoo Downtown Airport  33.857800  -98.490402\n",
      "29958          US  Palm Springs International Airport  33.829700 -116.507004\n",
      "39466          PK                   Rawalakot Airport  33.849701   73.798103\n",
      "41154          JP                  Kitakyushu Airport  33.845901  131.035004\n",
      "41183          JP                   Matsuyama Airport  33.827202  132.699997\n",
      "      iso_country                                  name        lat         lon\n",
      "14966          CA  Fort McMurray / Mildred Lake Airport  57.055599 -111.573997\n"
     ]
    }
   ],
   "source": [
    "row = df_fl.iloc[2145465]\n",
    "tol = 0.02\n",
    "if row['origin'] == 'nan':\n",
    "    lat = float(row['latitude_1'])\n",
    "    lon = float(row['longitude_1'])\n",
    "elif row['destination'] == 'nan':\n",
    "    lat = float(row['latitude_2'])\n",
    "    lon = float(row['longitude_2'])\n",
    "# what if both origin and destination nan?\n",
    "    \n",
    "print(lat, lon)\n",
    "print(df_ap[(df_ap['lat'] >= lat -tol) & (df_ap['lat'] <= lat + tol)][['iso_country','name','lat','lon']])\n",
    "print(df_ap[(df_ap['lon'] >= lon -tol) & (df_ap['lon'] <= lon + tol)][['iso_country','name','lat','lon']])\n",
    "#     print(df_ap[round(df_ap['lat'], 1) == round(lat, 1)]['ident'].values[0])\n",
    "        \n",
    "        \n",
    "        \n",
    "        \n",
    "        \n",
    "        \n",
    "#for idx, row in df_fl.iterrows():\n",
    "#    if row['origin'] == 'nan' or row['destination'] == 'nan#':\n",
    "#        print(row)\n",
    "#        fillcode(row)\n",
    "#        break"
   ]
  },
  {
   "cell_type": "code",
   "execution_count": 102,
   "metadata": {
    "ExecuteTime": {
     "end_time": "2020-08-18T10:04:00.951203Z",
     "start_time": "2020-08-18T10:04:00.947465Z"
    }
   },
   "outputs": [
    {
     "data": {
      "text/plain": [
       "1.02"
      ]
     },
     "execution_count": 102,
     "metadata": {},
     "output_type": "execute_result"
    }
   ],
   "source": [
    "round(1.016, 2)"
   ]
  }
 ],
 "metadata": {
  "kernelspec": {
   "display_name": "Python 3",
   "language": "python",
   "name": "python3"
  },
  "language_info": {
   "codemirror_mode": {
    "name": "ipython",
    "version": 3
   },
   "file_extension": ".py",
   "mimetype": "text/x-python",
   "name": "python",
   "nbconvert_exporter": "python",
   "pygments_lexer": "ipython3",
   "version": "3.6.9"
  },
  "varInspector": {
   "cols": {
    "lenName": 16,
    "lenType": 16,
    "lenVar": 40
   },
   "kernels_config": {
    "python": {
     "delete_cmd_postfix": "",
     "delete_cmd_prefix": "del ",
     "library": "var_list.py",
     "varRefreshCmd": "print(var_dic_list())"
    },
    "r": {
     "delete_cmd_postfix": ") ",
     "delete_cmd_prefix": "rm(",
     "library": "var_list.r",
     "varRefreshCmd": "cat(var_dic_list()) "
    }
   },
   "types_to_exclude": [
    "module",
    "function",
    "builtin_function_or_method",
    "instance",
    "_Feature"
   ],
   "window_display": false
  }
 },
 "nbformat": 4,
 "nbformat_minor": 2
}
